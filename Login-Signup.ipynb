{
 "cells": [
  {
   "cell_type": "code",
   "execution_count": null,
   "metadata": {},
   "outputs": [
    {
     "name": "stdout",
     "output_type": "stream",
     "text": [
      "Registered\n",
      "1. Login\n",
      "2. Sign up\n",
      "3. Exit\n"
     ]
    }
   ],
   "source": [
    "import csv\n",
    "from IPython.display import clear_output\n",
    "def signup():\n",
    "    with open('users.csv', mode='a') as f:\n",
    "        writer = csv.writer(f, delimiter=',')\n",
    "        print('Fill information: ')\n",
    "        name = input('Name: ')\n",
    "        password = input('Password: ')\n",
    "        password2 = input('Confirm Password: ')\n",
    "        clear_output()\n",
    "        if password == password2:\n",
    "            writer.writerow([name, password])\n",
    "            print('Registered')\n",
    "        else:\n",
    "            print('Error, try again')\n",
    "            \n",
    "def login():\n",
    "    print('Fill information: ')\n",
    "    name = input('Name: ')\n",
    "    password = input('Password: ')\n",
    "    clear_output()\n",
    "    with open('users.csv', mode='r') as f:\n",
    "        reader = csv.reader(f, delimiter=',')\n",
    "        for row in reader:\n",
    "            if row == [name, password]:\n",
    "                print('Registered')\n",
    "                return True\n",
    "    print('Error, try again')\n",
    "    return False\n",
    "\n",
    "status = False\n",
    "\n",
    "while True:\n",
    "    if status:\n",
    "        print('4. Log out\\n5. Exit')\n",
    "    else:\n",
    "        print('1. Login\\n2. Sign up\\n3. Exit')\n",
    "    choose = int(input('Implement'))\n",
    "    clear_output()\n",
    "    if choose == 2 and status == False:\n",
    "        signup()\n",
    "    elif choose == 1 and status == False:\n",
    "        status = login()\n",
    "    elif choose == 3 or choose ==5:\n",
    "        print('Good bye')\n",
    "        break\n",
    "    elif choose == 4 and status == True:\n",
    "        status = False\n",
    "        print('Registered')\n",
    "    else:\n",
    "        print('Error, try again')"
   ]
  },
  {
   "cell_type": "code",
   "execution_count": null,
   "metadata": {},
   "outputs": [],
   "source": []
  }
 ],
 "metadata": {
  "kernelspec": {
   "display_name": "Python 3",
   "language": "python",
   "name": "python3"
  },
  "language_info": {
   "codemirror_mode": {
    "name": "ipython",
    "version": 3
   },
   "file_extension": ".py",
   "mimetype": "text/x-python",
   "name": "python",
   "nbconvert_exporter": "python",
   "pygments_lexer": "ipython3",
   "version": "3.8.3"
  }
 },
 "nbformat": 4,
 "nbformat_minor": 4
}
